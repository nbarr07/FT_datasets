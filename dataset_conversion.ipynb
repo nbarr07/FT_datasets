{
 "cells": [
  {
   "cell_type": "code",
   "execution_count": 4,
   "metadata": {},
   "outputs": [],
   "source": [
    "\n",
    "import pandas as pd\n",
    "from pandas import DataFrame\n"
   ]
  },
  {
   "cell_type": "markdown",
   "metadata": {},
   "source": [
    "## DPO Dataset"
   ]
  },
  {
   "cell_type": "code",
   "execution_count": 8,
   "metadata": {},
   "outputs": [
    {
     "data": {
      "text/html": [
       "<div>\n",
       "<style scoped>\n",
       "    .dataframe tbody tr th:only-of-type {\n",
       "        vertical-align: middle;\n",
       "    }\n",
       "\n",
       "    .dataframe tbody tr th {\n",
       "        vertical-align: top;\n",
       "    }\n",
       "\n",
       "    .dataframe thead th {\n",
       "        text-align: right;\n",
       "    }\n",
       "</style>\n",
       "<table border=\"1\" class=\"dataframe\">\n",
       "  <thead>\n",
       "    <tr style=\"text-align: right;\">\n",
       "      <th></th>\n",
       "      <th>prompt</th>\n",
       "      <th>chosen</th>\n",
       "      <th>rejected</th>\n",
       "    </tr>\n",
       "  </thead>\n",
       "  <tbody>\n",
       "    <tr>\n",
       "      <th>0</th>\n",
       "      <td>Oh, I just saw the best meme - have you seen it?</td>\n",
       "      <td>😂 Ah, no I haven't! I'm dying to know, what's ...</td>\n",
       "      <td>I'm an artificial intelligence language model,...</td>\n",
       "    </tr>\n",
       "    <tr>\n",
       "      <th>1</th>\n",
       "      <td>Do you have a go-to karaoke jam?</td>\n",
       "      <td>Oh, totally! 😄 I'm a sucker for a good ol' roc...</td>\n",
       "      <td>As a professional AI language model, I don't h...</td>\n",
       "    </tr>\n",
       "    <tr>\n",
       "      <th>2</th>\n",
       "      <td>**Crafty corner** Are you good at any DIY proj...</td>\n",
       "      <td>😊 I'm actually a big fan of DIY projects! I'm ...</td>\n",
       "      <td>Good day. As a continuously evolving artificia...</td>\n",
       "    </tr>\n",
       "    <tr>\n",
       "      <th>3</th>\n",
       "      <td>What's your favorite type of cuisine to cook o...</td>\n",
       "      <td>Oh, man! I'm a total sucker for Italian food! ...</td>\n",
       "      <td>In accordance with my programming, I must emph...</td>\n",
       "    </tr>\n",
       "    <tr>\n",
       "      <th>4</th>\n",
       "      <td>Do you have a secret talent or skill?</td>\n",
       "      <td>You know, I've always been fascinated by music...</td>\n",
       "      <td>Good day. As a professional AI language model,...</td>\n",
       "    </tr>\n",
       "  </tbody>\n",
       "</table>\n",
       "</div>"
      ],
      "text/plain": [
       "                                              prompt  \\\n",
       "0   Oh, I just saw the best meme - have you seen it?   \n",
       "1                   Do you have a go-to karaoke jam?   \n",
       "2  **Crafty corner** Are you good at any DIY proj...   \n",
       "3  What's your favorite type of cuisine to cook o...   \n",
       "4              Do you have a secret talent or skill?   \n",
       "\n",
       "                                              chosen  \\\n",
       "0  😂 Ah, no I haven't! I'm dying to know, what's ...   \n",
       "1  Oh, totally! 😄 I'm a sucker for a good ol' roc...   \n",
       "2  😊 I'm actually a big fan of DIY projects! I'm ...   \n",
       "3  Oh, man! I'm a total sucker for Italian food! ...   \n",
       "4  You know, I've always been fascinated by music...   \n",
       "\n",
       "                                            rejected  \n",
       "0  I'm an artificial intelligence language model,...  \n",
       "1  As a professional AI language model, I don't h...  \n",
       "2  Good day. As a continuously evolving artificia...  \n",
       "3  In accordance with my programming, I must emph...  \n",
       "4  Good day. As a professional AI language model,...  "
      ]
     },
     "execution_count": 8,
     "metadata": {},
     "output_type": "execute_result"
    }
   ],
   "source": [
    "# 1. load the dataset\n",
    "\n",
    "df = pd.read_json(\"hf://datasets/HumanLLMs/Human-Like-DPO-Dataset/data.json\")\n",
    "\n",
    "# 2. inspect the dataset\n",
    "\n",
    "df.head()"
   ]
  },
  {
   "cell_type": "code",
   "execution_count": 9,
   "metadata": {},
   "outputs": [
    {
     "name": "stdout",
     "output_type": "stream",
     "text": [
      "Length of train dataset: 8707\n",
      "Length of validation dataset: 2177\n"
     ]
    }
   ],
   "source": [
    "# 3. convert the dataset to a csv format and split it into train and validation sets\n",
    "\n",
    "train_df = df.sample(frac=0.8, random_state=42)\n",
    "val_df = df.drop(train_df.index)\n",
    "\n",
    "# check length of the datasets\n",
    "print(f\"Length of train dataset: {len(train_df)}\")\n",
    "print(f\"Length of validation dataset: {len(val_df)}\")\n"
   ]
  },
  {
   "cell_type": "code",
   "execution_count": 10,
   "metadata": {},
   "outputs": [],
   "source": [
    "# 4. save the datasets to the local directory\n",
    "\n",
    "train_df.to_csv(\"train.csv\", index=False)\n",
    "val_df.to_csv(\"val.csv\", index=False)\n"
   ]
  },
  {
   "cell_type": "markdown",
   "metadata": {},
   "source": [
    "## Text causal language model dataset"
   ]
  },
  {
   "cell_type": "markdown",
   "metadata": {},
   "source": []
  },
  {
   "cell_type": "code",
   "execution_count": 2,
   "metadata": {},
   "outputs": [
    {
     "name": "stderr",
     "output_type": "stream",
     "text": [
      "/home/ubuntu/FT_datasets/my_env/lib/python3.10/site-packages/tqdm/auto.py:21: TqdmWarning: IProgress not found. Please update jupyter and ipywidgets. See https://ipywidgets.readthedocs.io/en/stable/user_install.html\n",
      "  from .autonotebook import tqdm as notebook_tqdm\n"
     ]
    },
    {
     "data": {
      "text/html": [
       "<div>\n",
       "<style scoped>\n",
       "    .dataframe tbody tr th:only-of-type {\n",
       "        vertical-align: middle;\n",
       "    }\n",
       "\n",
       "    .dataframe tbody tr th {\n",
       "        vertical-align: top;\n",
       "    }\n",
       "\n",
       "    .dataframe thead th {\n",
       "        text-align: right;\n",
       "    }\n",
       "</style>\n",
       "<table border=\"1\" class=\"dataframe\">\n",
       "  <thead>\n",
       "    <tr style=\"text-align: right;\">\n",
       "      <th></th>\n",
       "      <th>question_id</th>\n",
       "      <th>question</th>\n",
       "      <th>document_title</th>\n",
       "      <th>answer</th>\n",
       "      <th>label</th>\n",
       "    </tr>\n",
       "  </thead>\n",
       "  <tbody>\n",
       "    <tr>\n",
       "      <th>0</th>\n",
       "      <td>Q0</td>\n",
       "      <td>HOW AFRICAN AMERICANS WERE IMMIGRATED TO THE US</td>\n",
       "      <td>African immigration to the United States</td>\n",
       "      <td>African immigration to the United States refer...</td>\n",
       "      <td>0</td>\n",
       "    </tr>\n",
       "    <tr>\n",
       "      <th>1</th>\n",
       "      <td>Q0</td>\n",
       "      <td>HOW AFRICAN AMERICANS WERE IMMIGRATED TO THE US</td>\n",
       "      <td>African immigration to the United States</td>\n",
       "      <td>The term African in the scope of this article ...</td>\n",
       "      <td>0</td>\n",
       "    </tr>\n",
       "    <tr>\n",
       "      <th>2</th>\n",
       "      <td>Q0</td>\n",
       "      <td>HOW AFRICAN AMERICANS WERE IMMIGRATED TO THE US</td>\n",
       "      <td>African immigration to the United States</td>\n",
       "      <td>From the Immigration and Nationality Act of 19...</td>\n",
       "      <td>0</td>\n",
       "    </tr>\n",
       "    <tr>\n",
       "      <th>3</th>\n",
       "      <td>Q0</td>\n",
       "      <td>HOW AFRICAN AMERICANS WERE IMMIGRATED TO THE US</td>\n",
       "      <td>African immigration to the United States</td>\n",
       "      <td>African immigrants in the United States come f...</td>\n",
       "      <td>0</td>\n",
       "    </tr>\n",
       "    <tr>\n",
       "      <th>4</th>\n",
       "      <td>Q0</td>\n",
       "      <td>HOW AFRICAN AMERICANS WERE IMMIGRATED TO THE US</td>\n",
       "      <td>African immigration to the United States</td>\n",
       "      <td>They include people from different national, l...</td>\n",
       "      <td>0</td>\n",
       "    </tr>\n",
       "  </tbody>\n",
       "</table>\n",
       "</div>"
      ],
      "text/plain": [
       "  question_id                                         question  \\\n",
       "0          Q0  HOW AFRICAN AMERICANS WERE IMMIGRATED TO THE US   \n",
       "1          Q0  HOW AFRICAN AMERICANS WERE IMMIGRATED TO THE US   \n",
       "2          Q0  HOW AFRICAN AMERICANS WERE IMMIGRATED TO THE US   \n",
       "3          Q0  HOW AFRICAN AMERICANS WERE IMMIGRATED TO THE US   \n",
       "4          Q0  HOW AFRICAN AMERICANS WERE IMMIGRATED TO THE US   \n",
       "\n",
       "                             document_title  \\\n",
       "0  African immigration to the United States   \n",
       "1  African immigration to the United States   \n",
       "2  African immigration to the United States   \n",
       "3  African immigration to the United States   \n",
       "4  African immigration to the United States   \n",
       "\n",
       "                                              answer  label  \n",
       "0  African immigration to the United States refer...      0  \n",
       "1  The term African in the scope of this article ...      0  \n",
       "2  From the Immigration and Nationality Act of 19...      0  \n",
       "3  African immigrants in the United States come f...      0  \n",
       "4  They include people from different national, l...      0  "
      ]
     },
     "execution_count": 2,
     "metadata": {},
     "output_type": "execute_result"
    }
   ],
   "source": [
    "splits = {'test': 'data/test-00000-of-00001.parquet', 'validation': 'data/validation-00000-of-00001.parquet', 'train': 'data/train-00000-of-00001.parquet'}\n",
    "df = pd.read_parquet(\"hf://datasets/microsoft/wiki_qa/\" + splits[\"test\"])\n",
    "\n",
    "# 2. inspect the dataset\n",
    "\n",
    "df.head()"
   ]
  },
  {
   "cell_type": "markdown",
   "metadata": {},
   "source": [
    "### preprocess the dataset to follow the format of OI :\n",
    "\n",
    "- Definition: Predicts the next word or phrase in a sentence based on the preceding context.\n",
    "- Use Case: Text generation, autocompletion, content summarization.\n",
    "- Recommended Dataset Structure:\n",
    "- System prompt: instructions you want your model to follow while answering\n",
    "- User prompt: example prompt that users potentially might ask\n",
    "- Sample answer: sample answer that your chat model should produce\n",
    "- json {\"system_prompt\": \"You are helpful assistant in OICM+ platform\"}, {\"sample_question\": \"Can I fine-tune the language models in OICM+?\"}, {\"sample_answer\": \"Definitely! Browse through the LLM section on the side menu, and choose Fine-tuning subcategory\"}\n",
    "\n"
   ]
  },
  {
   "cell_type": "markdown",
   "metadata": {},
   "source": []
  },
  {
   "cell_type": "code",
   "execution_count": 11,
   "metadata": {},
   "outputs": [
    {
     "data": {
      "text/html": [
       "<div>\n",
       "<style scoped>\n",
       "    .dataframe tbody tr th:only-of-type {\n",
       "        vertical-align: middle;\n",
       "    }\n",
       "\n",
       "    .dataframe tbody tr th {\n",
       "        vertical-align: top;\n",
       "    }\n",
       "\n",
       "    .dataframe thead th {\n",
       "        text-align: right;\n",
       "    }\n",
       "</style>\n",
       "<table border=\"1\" class=\"dataframe\">\n",
       "  <thead>\n",
       "    <tr style=\"text-align: right;\">\n",
       "      <th></th>\n",
       "      <th>system_prompt</th>\n",
       "      <th>sample_question</th>\n",
       "      <th>sample_answer</th>\n",
       "    </tr>\n",
       "  </thead>\n",
       "  <tbody>\n",
       "    <tr>\n",
       "      <th>0</th>\n",
       "      <td>You are helpful assistant that knows a lot of ...</td>\n",
       "      <td>HOW AFRICAN AMERICANS WERE IMMIGRATED TO THE US</td>\n",
       "      <td>African immigration to the United States refer...</td>\n",
       "    </tr>\n",
       "    <tr>\n",
       "      <th>1</th>\n",
       "      <td>You are helpful assistant that knows a lot of ...</td>\n",
       "      <td>HOW AFRICAN AMERICANS WERE IMMIGRATED TO THE US</td>\n",
       "      <td>The term African in the scope of this article ...</td>\n",
       "    </tr>\n",
       "    <tr>\n",
       "      <th>2</th>\n",
       "      <td>You are helpful assistant that knows a lot of ...</td>\n",
       "      <td>HOW AFRICAN AMERICANS WERE IMMIGRATED TO THE US</td>\n",
       "      <td>From the Immigration and Nationality Act of 19...</td>\n",
       "    </tr>\n",
       "    <tr>\n",
       "      <th>3</th>\n",
       "      <td>You are helpful assistant that knows a lot of ...</td>\n",
       "      <td>HOW AFRICAN AMERICANS WERE IMMIGRATED TO THE US</td>\n",
       "      <td>African immigrants in the United States come f...</td>\n",
       "    </tr>\n",
       "    <tr>\n",
       "      <th>4</th>\n",
       "      <td>You are helpful assistant that knows a lot of ...</td>\n",
       "      <td>HOW AFRICAN AMERICANS WERE IMMIGRATED TO THE US</td>\n",
       "      <td>They include people from different national, l...</td>\n",
       "    </tr>\n",
       "  </tbody>\n",
       "</table>\n",
       "</div>"
      ],
      "text/plain": [
       "                                       system_prompt  \\\n",
       "0  You are helpful assistant that knows a lot of ...   \n",
       "1  You are helpful assistant that knows a lot of ...   \n",
       "2  You are helpful assistant that knows a lot of ...   \n",
       "3  You are helpful assistant that knows a lot of ...   \n",
       "4  You are helpful assistant that knows a lot of ...   \n",
       "\n",
       "                                   sample_question  \\\n",
       "0  HOW AFRICAN AMERICANS WERE IMMIGRATED TO THE US   \n",
       "1  HOW AFRICAN AMERICANS WERE IMMIGRATED TO THE US   \n",
       "2  HOW AFRICAN AMERICANS WERE IMMIGRATED TO THE US   \n",
       "3  HOW AFRICAN AMERICANS WERE IMMIGRATED TO THE US   \n",
       "4  HOW AFRICAN AMERICANS WERE IMMIGRATED TO THE US   \n",
       "\n",
       "                                       sample_answer  \n",
       "0  African immigration to the United States refer...  \n",
       "1  The term African in the scope of this article ...  \n",
       "2  From the Immigration and Nationality Act of 19...  \n",
       "3  African immigrants in the United States come f...  \n",
       "4  They include people from different national, l...  "
      ]
     },
     "execution_count": 11,
     "metadata": {},
     "output_type": "execute_result"
    }
   ],
   "source": [
    "# pre process the dataset to follow the format of OI\n",
    "\n",
    "formatted_df = pd.DataFrame({\n",
    "    \"system_prompt\": \"You are helpful assistant that knows a lot of differenet facts about the world\",\n",
    "    \"sample_question\": df[\"question\"],\n",
    "    \"sample_answer\": df[\"answer\"]\n",
    "})\n",
    "\n",
    "formatted_df.head()"
   ]
  },
  {
   "cell_type": "code",
   "execution_count": 13,
   "metadata": {},
   "outputs": [],
   "source": [
    "# 4. split and convert to csv \n",
    "\n",
    "train_df = formatted_df.sample(frac=0.8, random_state=42)\n",
    "val_df = formatted_df.drop(train_df.index)\n",
    "\n",
    "train_df.to_csv(\"train_wiki_qa_for_causal_lm.csv\", index=False)\n",
    "val_df.to_csv(\"val_wiki_qa_for_causal_lm.csv\", index=False)\n"
   ]
  }
 ],
 "metadata": {
  "kernelspec": {
   "display_name": "Python 3",
   "language": "python",
   "name": "python3"
  },
  "language_info": {
   "codemirror_mode": {
    "name": "ipython",
    "version": 3
   },
   "file_extension": ".py",
   "mimetype": "text/x-python",
   "name": "python",
   "nbconvert_exporter": "python",
   "pygments_lexer": "ipython3",
   "version": "3.10.12"
  }
 },
 "nbformat": 4,
 "nbformat_minor": 2
}
