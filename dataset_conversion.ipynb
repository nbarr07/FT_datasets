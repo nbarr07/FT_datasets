{
 "cells": [
  {
   "cell_type": "code",
   "execution_count": 7,
   "metadata": {},
   "outputs": [],
   "source": [
    "import pandas as pd\n"
   ]
  },
  {
   "cell_type": "markdown",
   "metadata": {},
   "source": [
    "## DPO Dataset"
   ]
  },
  {
   "cell_type": "code",
   "execution_count": 8,
   "metadata": {},
   "outputs": [
    {
     "data": {
      "text/html": [
       "<div>\n",
       "<style scoped>\n",
       "    .dataframe tbody tr th:only-of-type {\n",
       "        vertical-align: middle;\n",
       "    }\n",
       "\n",
       "    .dataframe tbody tr th {\n",
       "        vertical-align: top;\n",
       "    }\n",
       "\n",
       "    .dataframe thead th {\n",
       "        text-align: right;\n",
       "    }\n",
       "</style>\n",
       "<table border=\"1\" class=\"dataframe\">\n",
       "  <thead>\n",
       "    <tr style=\"text-align: right;\">\n",
       "      <th></th>\n",
       "      <th>prompt</th>\n",
       "      <th>chosen</th>\n",
       "      <th>rejected</th>\n",
       "    </tr>\n",
       "  </thead>\n",
       "  <tbody>\n",
       "    <tr>\n",
       "      <th>0</th>\n",
       "      <td>Oh, I just saw the best meme - have you seen it?</td>\n",
       "      <td>😂 Ah, no I haven't! I'm dying to know, what's ...</td>\n",
       "      <td>I'm an artificial intelligence language model,...</td>\n",
       "    </tr>\n",
       "    <tr>\n",
       "      <th>1</th>\n",
       "      <td>Do you have a go-to karaoke jam?</td>\n",
       "      <td>Oh, totally! 😄 I'm a sucker for a good ol' roc...</td>\n",
       "      <td>As a professional AI language model, I don't h...</td>\n",
       "    </tr>\n",
       "    <tr>\n",
       "      <th>2</th>\n",
       "      <td>**Crafty corner** Are you good at any DIY proj...</td>\n",
       "      <td>😊 I'm actually a big fan of DIY projects! I'm ...</td>\n",
       "      <td>Good day. As a continuously evolving artificia...</td>\n",
       "    </tr>\n",
       "    <tr>\n",
       "      <th>3</th>\n",
       "      <td>What's your favorite type of cuisine to cook o...</td>\n",
       "      <td>Oh, man! I'm a total sucker for Italian food! ...</td>\n",
       "      <td>In accordance with my programming, I must emph...</td>\n",
       "    </tr>\n",
       "    <tr>\n",
       "      <th>4</th>\n",
       "      <td>Do you have a secret talent or skill?</td>\n",
       "      <td>You know, I've always been fascinated by music...</td>\n",
       "      <td>Good day. As a professional AI language model,...</td>\n",
       "    </tr>\n",
       "  </tbody>\n",
       "</table>\n",
       "</div>"
      ],
      "text/plain": [
       "                                              prompt  \\\n",
       "0   Oh, I just saw the best meme - have you seen it?   \n",
       "1                   Do you have a go-to karaoke jam?   \n",
       "2  **Crafty corner** Are you good at any DIY proj...   \n",
       "3  What's your favorite type of cuisine to cook o...   \n",
       "4              Do you have a secret talent or skill?   \n",
       "\n",
       "                                              chosen  \\\n",
       "0  😂 Ah, no I haven't! I'm dying to know, what's ...   \n",
       "1  Oh, totally! 😄 I'm a sucker for a good ol' roc...   \n",
       "2  😊 I'm actually a big fan of DIY projects! I'm ...   \n",
       "3  Oh, man! I'm a total sucker for Italian food! ...   \n",
       "4  You know, I've always been fascinated by music...   \n",
       "\n",
       "                                            rejected  \n",
       "0  I'm an artificial intelligence language model,...  \n",
       "1  As a professional AI language model, I don't h...  \n",
       "2  Good day. As a continuously evolving artificia...  \n",
       "3  In accordance with my programming, I must emph...  \n",
       "4  Good day. As a professional AI language model,...  "
      ]
     },
     "execution_count": 8,
     "metadata": {},
     "output_type": "execute_result"
    }
   ],
   "source": [
    "# 1. load the dataset\n",
    "\n",
    "df = pd.read_json(\"hf://datasets/HumanLLMs/Human-Like-DPO-Dataset/data.json\")\n",
    "\n",
    "# 2. inspect the dataset\n",
    "\n",
    "df.head()"
   ]
  },
  {
   "cell_type": "code",
   "execution_count": 9,
   "metadata": {},
   "outputs": [
    {
     "name": "stdout",
     "output_type": "stream",
     "text": [
      "Length of train dataset: 8707\n",
      "Length of validation dataset: 2177\n"
     ]
    }
   ],
   "source": [
    "# 3. convert the dataset to a csv format and split it into train and validation sets\n",
    "\n",
    "train_df = df.sample(frac=0.8, random_state=42)\n",
    "val_df = df.drop(train_df.index)\n",
    "\n",
    "# check length of the datasets\n",
    "print(f\"Length of train dataset: {len(train_df)}\")\n",
    "print(f\"Length of validation dataset: {len(val_df)}\")\n"
   ]
  },
  {
   "cell_type": "code",
   "execution_count": 10,
   "metadata": {},
   "outputs": [],
   "source": [
    "# 4. save the datasets to the local directory\n",
    "\n",
    "train_df.to_csv(\"train.csv\", index=False)\n",
    "val_df.to_csv(\"val.csv\", index=False)\n"
   ]
  }
 ],
 "metadata": {
  "language_info": {
   "name": "python"
  }
 },
 "nbformat": 4,
 "nbformat_minor": 2
}
